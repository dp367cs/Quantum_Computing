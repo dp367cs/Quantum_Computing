{
 "cells": [
  {
   "cell_type": "code",
   "execution_count": 3,
   "id": "cb16f3fb-6f4a-482a-9730-59ff04633e10",
   "metadata": {},
   "outputs": [],
   "source": [
    "from qiskit import QuantumCircuit, transpile\n",
    "from qiskit_aer import AerSimulator\n",
    "from qiskit.visualization import plot_histogram\n",
    "import numpy as np"
   ]
  },
  {
   "cell_type": "code",
   "execution_count": 4,
   "id": "3ee48afb-0213-4825-a21d-004ac0943661",
   "metadata": {},
   "outputs": [],
   "source": [
    "def oracle():\n",
    "    qc = QuantumCircuit(3)\n",
    "    \n",
    "    # Flip |101> and |110> using phase flip\n",
    "    qc.cz(0, 2)  # Phase flip on |101>\n",
    "    qc.cz(1, 2)  # Phase flip on |110>\n",
    "    \n",
    "    return qc"
   ]
  },
  {
   "cell_type": "code",
   "execution_count": 5,
   "id": "85b03fd5-a691-4788-ac9a-f438ff76ba27",
   "metadata": {},
   "outputs": [],
   "source": [
    "def diffusion_operator():\n",
    "    qc = QuantumCircuit(3)\n",
    "    \n",
    "    qc.h(range(3))      # Apply Hadamard to all qubits\n",
    "    qc.x(range(3))      # Apply X gates to all qubits\n",
    "    qc.h(2)             # Hadamard on last qubit\n",
    "    qc.ccx(0, 1, 2)     # Multi-control NOT (Toffoli)\n",
    "    qc.h(2)             # Hadamard on last qubit\n",
    "    qc.x(range(3))      # Apply X gates again\n",
    "    qc.h(range(3))      # Apply Hadamard again\n",
    "    \n",
    "    return qc"
   ]
  },
  {
   "cell_type": "code",
   "execution_count": null,
   "id": "a3183ea6-84f2-4718-8dc0-bbac55f95742",
   "metadata": {},
   "outputs": [],
   "source": [
    "grover_circuit = QuantumCircuit(3, 3)   "
   ]
  },
  {
   "cell_type": "code",
   "execution_count": 7,
   "id": "ed25e1c1-b836-40f8-86c8-aa159187c272",
   "metadata": {},
   "outputs": [
    {
     "data": {
      "text/plain": [
       "<qiskit.circuit.instructionset.InstructionSet at 0x22c240db430>"
      ]
     },
     "execution_count": 7,
     "metadata": {},
     "output_type": "execute_result"
    }
   ],
   "source": [
    "grover_circuit.h(range(3))"
   ]
  },
  {
   "cell_type": "code",
   "execution_count": 8,
   "id": "d96b410f-21d3-4eb2-a64a-ff177dfb2873",
   "metadata": {},
   "outputs": [],
   "source": [
    "grover_circuit.compose(oracle(), inplace=True)"
   ]
  },
  {
   "cell_type": "code",
   "execution_count": 9,
   "id": "8ee779c6-cbe3-4de4-939b-db8468c83311",
   "metadata": {},
   "outputs": [],
   "source": [
    "grover_circuit.compose(diffusion_operator(), inplace=True)"
   ]
  },
  {
   "cell_type": "code",
   "execution_count": 10,
   "id": "ad81f0e5-cfeb-48e3-8e4b-092b4298d7f2",
   "metadata": {},
   "outputs": [
    {
     "data": {
      "text/plain": [
       "<qiskit.circuit.instructionset.InstructionSet at 0x22c240db6a0>"
      ]
     },
     "execution_count": 10,
     "metadata": {},
     "output_type": "execute_result"
    }
   ],
   "source": [
    "grover_circuit.measure(range(3), range(3))"
   ]
  },
  {
   "cell_type": "code",
   "execution_count": 13,
   "id": "ac4316f2-710b-4966-a37f-f208095200e6",
   "metadata": {},
   "outputs": [
    {
     "name": "stdout",
     "output_type": "stream",
     "text": [
      "{'101': 517, '110': 507}\n"
     ]
    }
   ],
   "source": [
    "from qiskit import transpile\n",
    "from qiskit_aer import AerSimulator\n",
    "\n",
    "# Backend\n",
    "simulator = AerSimulator()\n",
    "\n",
    "# Transpile your circuit\n",
    "compiled_circuit = transpile(grover_circuit, simulator)\n",
    "\n",
    "# Run directly (no assemble needed)\n",
    "result = simulator.run(compiled_circuit, shots=1024).result()\n",
    "\n",
    "counts = result.get_counts()\n",
    "print(counts)\n"
   ]
  },
  {
   "cell_type": "code",
   "execution_count": null,
   "id": "d7513a62-88a4-4085-9b4a-a192ff1584a8",
   "metadata": {},
   "outputs": [],
   "source": []
  },
  {
   "cell_type": "code",
   "execution_count": 15,
   "id": "1c33d6e7-74f5-461e-b8c6-e436fcb14b96",
   "metadata": {},
   "outputs": [
    {
     "name": "stdout",
     "output_type": "stream",
     "text": [
      "Measurement results: {'101': 517, '110': 507}\n"
     ]
    },
    {
     "data": {
      "image/png": "[encoded data removed]",
      "text/plain": [
       "<Figure size 640x480 with 1 Axes>"
      ]
     },
     "execution_count": 15,
     "metadata": {},
     "output_type": "execute_result"
    }
   ],
   "source": [
    "print(\"Measurement results:\", counts)\n",
    "plot_histogram(counts)"
   ]
  },
  {
   "cell_type": "code",
   "execution_count": null,
   "id": "8ae3a4d1-4f15-4f71-995b-8984d5cb55da",
   "metadata": {},
   "outputs": [],
   "source": []
  }
 ],
 "metadata": {
  "kernelspec": {
   "display_name": "base",
   "language": "python",
   "name": "python3"
  },
  "language_info": {
   "codemirror_mode": {
    "name": "ipython",
    "version": 3
   },
   "file_extension": ".py",
   "mimetype": "text/x-python",
   "name": "python",
   "nbconvert_exporter": "python",
   "pygments_lexer": "ipython3",
   "version": "3.11.5"
  }
 },
 "nbformat": 4,
 "nbformat_minor": 5
}
